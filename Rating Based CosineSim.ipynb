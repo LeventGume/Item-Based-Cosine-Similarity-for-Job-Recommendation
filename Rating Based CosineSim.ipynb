{
 "cells": [
  {
   "cell_type": "code",
   "execution_count": 1,
   "metadata": {
    "execution": {
     "iopub.execute_input": "2021-05-28T11:36:14.064392Z",
     "iopub.status.busy": "2021-05-28T11:36:14.063874Z",
     "iopub.status.idle": "2021-05-28T11:36:14.175496Z",
     "shell.execute_reply": "2021-05-28T11:36:14.174615Z",
     "shell.execute_reply.started": "2021-05-28T11:36:14.064312Z"
    }
   },
   "outputs": [],
   "source": [
    "#Import necessary libraries \n",
    "import pandas as pd \n",
    "import numpy as np\n",
    "import re\n",
    "from scipy import sparse \n",
    "from pandas.api.types import CategoricalDtype \n",
    "from scipy.sparse import coo_matrix, csr_matrix\n",
    "from sklearn.metrics.pairwise import cosine_similarity\n",
    "from sklearn.preprocessing import LabelEncoder"
   ]
  },
  {
   "cell_type": "code",
   "execution_count": 2,
   "metadata": {
    "_cell_guid": "b1076dfc-b9ad-4769-8c92-a6c4dae69d19",
    "_uuid": "8f2839f25d086af736a60e9eeb907d3b93b6e0e5",
    "execution": {
     "iopub.execute_input": "2021-05-28T11:36:14.177075Z",
     "iopub.status.busy": "2021-05-28T11:36:14.176798Z",
     "iopub.status.idle": "2021-05-28T11:36:19.333485Z",
     "shell.execute_reply": "2021-05-28T11:36:19.332721Z",
     "shell.execute_reply.started": "2021-05-28T11:36:14.177048Z"
    }
   },
   "outputs": [],
   "source": [
    "#Kaggle Datasets\n",
    "aday_log=pd.read_csv('../input/datathon-guess-the-last-one/data_aday_log.csv')\n",
    "cv_details=pd.read_csv('../input/datathon-guess-the-last-one/data_cv_details.csv')\n",
    "job_details=pd.read_csv('../input/datathon-guess-the-last-one/data_job_details.csv')\n",
    "#sample=pd.read_csv('../input/datathon-guess-the-last-one/sample_.csv')\n",
    "son2_basvuranlar_test=pd.read_csv('../input/datathon-guess-the-last-one/son2_basvurular_test.csv')"
   ]
  },
  {
   "cell_type": "code",
   "execution_count": 3,
   "metadata": {
    "execution": {
     "iopub.execute_input": "2021-05-28T11:36:19.335137Z",
     "iopub.status.busy": "2021-05-28T11:36:19.334737Z",
     "iopub.status.idle": "2021-05-28T11:36:21.017100Z",
     "shell.execute_reply": "2021-05-28T11:36:21.016225Z",
     "shell.execute_reply.started": "2021-05-28T11:36:19.335108Z"
    }
   },
   "outputs": [
    {
     "data": {
      "text/html": [
       "<div>\n",
       "<style scoped>\n",
       "    .dataframe tbody tr th:only-of-type {\n",
       "        vertical-align: middle;\n",
       "    }\n",
       "\n",
       "    .dataframe tbody tr th {\n",
       "        vertical-align: top;\n",
       "    }\n",
       "\n",
       "    .dataframe thead th {\n",
       "        text-align: right;\n",
       "    }\n",
       "</style>\n",
       "<table border=\"1\" class=\"dataframe\">\n",
       "  <thead>\n",
       "    <tr style=\"text-align: right;\">\n",
       "      <th></th>\n",
       "      <th>jobseekerId</th>\n",
       "      <th>jobId</th>\n",
       "      <th>applicationDate</th>\n",
       "      <th>jobseekerCity</th>\n",
       "      <th>jobseekerLastPosition</th>\n",
       "      <th>departmentName</th>\n",
       "      <th>totalExperienceYear</th>\n",
       "      <th>jobPosition</th>\n",
       "      <th>jobDescription</th>\n",
       "      <th>jobCity</th>\n",
       "      <th>minExperience</th>\n",
       "      <th>maxExperience</th>\n",
       "    </tr>\n",
       "  </thead>\n",
       "  <tbody>\n",
       "    <tr>\n",
       "      <th>0</th>\n",
       "      <td>9133</td>\n",
       "      <td>2647244</td>\n",
       "      <td>2021-01-03 18:29:31.383</td>\n",
       "      <td>İstanbul(Asya)</td>\n",
       "      <td>Mali Danışman</td>\n",
       "      <td>Çalışma Ekonomisi ve Endüstri İlişkileri</td>\n",
       "      <td>24</td>\n",
       "      <td>Muhasebe Müdürü</td>\n",
       "      <td>&lt;p class=\"x_MsoNormal\"&gt;&lt;strong&gt;GENEL NİTELİKLE...</td>\n",
       "      <td>İstanbul(Avr.)</td>\n",
       "      <td>99</td>\n",
       "      <td>99</td>\n",
       "    </tr>\n",
       "    <tr>\n",
       "      <th>1</th>\n",
       "      <td>9133</td>\n",
       "      <td>2575774</td>\n",
       "      <td>2021-01-03 20:46:26.693</td>\n",
       "      <td>İstanbul(Asya)</td>\n",
       "      <td>Mali Danışman</td>\n",
       "      <td>Çalışma Ekonomisi ve Endüstri İlişkileri</td>\n",
       "      <td>24</td>\n",
       "      <td>Muhasebe Müdürü</td>\n",
       "      <td>&lt;p&gt;- Genel Muhasebe alanında en az 7 yıl ve üz...</td>\n",
       "      <td>İstanbul(Asya)</td>\n",
       "      <td>99</td>\n",
       "      <td>99</td>\n",
       "    </tr>\n",
       "    <tr>\n",
       "      <th>2</th>\n",
       "      <td>9133</td>\n",
       "      <td>2614546</td>\n",
       "      <td>2021-01-03 20:48:02.357</td>\n",
       "      <td>İstanbul(Asya)</td>\n",
       "      <td>Mali Danışman</td>\n",
       "      <td>Çalışma Ekonomisi ve Endüstri İlişkileri</td>\n",
       "      <td>24</td>\n",
       "      <td>Muhasebe Müdürü</td>\n",
       "      <td>&lt;p class=\"x_MsoNormal\"&gt;&lt;span&gt;Turizm Sektöründe...</td>\n",
       "      <td>İstanbul(Asya)</td>\n",
       "      <td>15</td>\n",
       "      <td>0</td>\n",
       "    </tr>\n",
       "    <tr>\n",
       "      <th>3</th>\n",
       "      <td>9133</td>\n",
       "      <td>2649353</td>\n",
       "      <td>2021-01-06 19:10:03.800</td>\n",
       "      <td>İstanbul(Asya)</td>\n",
       "      <td>Mali Danışman</td>\n",
       "      <td>Çalışma Ekonomisi ve Endüstri İlişkileri</td>\n",
       "      <td>24</td>\n",
       "      <td>Finans Müdürü</td>\n",
       "      <td>&lt;p&gt;&lt;/p&gt;&lt;p&gt;&lt;strong&gt;&lt;u&gt;Genel Nitelikler&lt;/u&gt;&lt;/str...</td>\n",
       "      <td>İstanbul(Asya)</td>\n",
       "      <td>7</td>\n",
       "      <td>0</td>\n",
       "    </tr>\n",
       "    <tr>\n",
       "      <th>4</th>\n",
       "      <td>9133</td>\n",
       "      <td>2621592</td>\n",
       "      <td>2021-01-07 10:32:55.957</td>\n",
       "      <td>İstanbul(Asya)</td>\n",
       "      <td>Mali Danışman</td>\n",
       "      <td>Çalışma Ekonomisi ve Endüstri İlişkileri</td>\n",
       "      <td>24</td>\n",
       "      <td>Muhasebe Sorumlusu</td>\n",
       "      <td>&lt;p class=\"x_x_x_x_x_MsoNormal\"&gt;&lt;span&gt;Sektöründ...</td>\n",
       "      <td>İstanbul(Asya)</td>\n",
       "      <td>5</td>\n",
       "      <td>0</td>\n",
       "    </tr>\n",
       "  </tbody>\n",
       "</table>\n",
       "</div>"
      ],
      "text/plain": [
       "   jobseekerId    jobId          applicationDate   jobseekerCity  \\\n",
       "0         9133  2647244  2021-01-03 18:29:31.383  İstanbul(Asya)   \n",
       "1         9133  2575774  2021-01-03 20:46:26.693  İstanbul(Asya)   \n",
       "2         9133  2614546  2021-01-03 20:48:02.357  İstanbul(Asya)   \n",
       "3         9133  2649353  2021-01-06 19:10:03.800  İstanbul(Asya)   \n",
       "4         9133  2621592  2021-01-07 10:32:55.957  İstanbul(Asya)   \n",
       "\n",
       "  jobseekerLastPosition                            departmentName  \\\n",
       "0         Mali Danışman  Çalışma Ekonomisi ve Endüstri İlişkileri   \n",
       "1         Mali Danışman  Çalışma Ekonomisi ve Endüstri İlişkileri   \n",
       "2         Mali Danışman  Çalışma Ekonomisi ve Endüstri İlişkileri   \n",
       "3         Mali Danışman  Çalışma Ekonomisi ve Endüstri İlişkileri   \n",
       "4         Mali Danışman  Çalışma Ekonomisi ve Endüstri İlişkileri   \n",
       "\n",
       "   totalExperienceYear         jobPosition  \\\n",
       "0                   24     Muhasebe Müdürü   \n",
       "1                   24     Muhasebe Müdürü   \n",
       "2                   24     Muhasebe Müdürü   \n",
       "3                   24       Finans Müdürü   \n",
       "4                   24  Muhasebe Sorumlusu   \n",
       "\n",
       "                                      jobDescription         jobCity  \\\n",
       "0  <p class=\"x_MsoNormal\"><strong>GENEL NİTELİKLE...  İstanbul(Avr.)   \n",
       "1  <p>- Genel Muhasebe alanında en az 7 yıl ve üz...  İstanbul(Asya)   \n",
       "2  <p class=\"x_MsoNormal\"><span>Turizm Sektöründe...  İstanbul(Asya)   \n",
       "3  <p></p><p><strong><u>Genel Nitelikler</u></str...  İstanbul(Asya)   \n",
       "4  <p class=\"x_x_x_x_x_MsoNormal\"><span>Sektöründ...  İstanbul(Asya)   \n",
       "\n",
       "   minExperience  maxExperience  \n",
       "0             99             99  \n",
       "1             99             99  \n",
       "2             15              0  \n",
       "3              7              0  \n",
       "4              5              0  "
      ]
     },
     "execution_count": 3,
     "metadata": {},
     "output_type": "execute_result"
    }
   ],
   "source": [
    "cv_log_merge=pd.merge(aday_log,cv_details,how='left',on='jobseekerId')\n",
    "cv_job_merge=pd.merge(cv_log_merge,job_details,how='left',on='jobId')\n",
    "cv_job_merge=cv_job_merge.drop(labels=['Unnamed: 0_x','Unnamed: 0_y','Unnamed: 0'],axis=1)\n",
    "cv_job_merge.head()"
   ]
  },
  {
   "cell_type": "code",
   "execution_count": 4,
   "metadata": {
    "execution": {
     "iopub.execute_input": "2021-05-28T11:36:21.018959Z",
     "iopub.status.busy": "2021-05-28T11:36:21.018672Z",
     "iopub.status.idle": "2021-05-28T11:36:21.102572Z",
     "shell.execute_reply": "2021-05-28T11:36:21.101537Z",
     "shell.execute_reply.started": "2021-05-28T11:36:21.018931Z"
    }
   },
   "outputs": [],
   "source": [
    "#EXPERIENCE KARSILASTIRMA\n",
    "cv_job_merge['minExperience']=np.where(cv_job_merge.minExperience==99,0,cv_job_merge.minExperience)\n",
    "cv_job_merge['maxExperience']=np.where(cv_job_merge.maxExperience==0,99,cv_job_merge.maxExperience)\n",
    "\n",
    "cv_job_merge['minExperience']=np.where(cv_job_merge.minExperience.isin([96,97,98]),0,cv_job_merge.minExperience)\n",
    "cv_job_merge['maxExperience']=np.where(cv_job_merge.maxExperience.isin([96,97,98]),2,cv_job_merge.maxExperience)"
   ]
  },
  {
   "cell_type": "code",
   "execution_count": 5,
   "metadata": {
    "execution": {
     "iopub.execute_input": "2021-05-28T11:36:21.104124Z",
     "iopub.status.busy": "2021-05-28T11:36:21.103822Z",
     "iopub.status.idle": "2021-05-28T11:36:21.136961Z",
     "shell.execute_reply": "2021-05-28T11:36:21.136111Z",
     "shell.execute_reply.started": "2021-05-28T11:36:21.104094Z"
    }
   },
   "outputs": [
    {
     "data": {
      "text/html": [
       "<div>\n",
       "<style scoped>\n",
       "    .dataframe tbody tr th:only-of-type {\n",
       "        vertical-align: middle;\n",
       "    }\n",
       "\n",
       "    .dataframe tbody tr th {\n",
       "        vertical-align: top;\n",
       "    }\n",
       "\n",
       "    .dataframe thead th {\n",
       "        text-align: right;\n",
       "    }\n",
       "</style>\n",
       "<table border=\"1\" class=\"dataframe\">\n",
       "  <thead>\n",
       "    <tr style=\"text-align: right;\">\n",
       "      <th></th>\n",
       "      <th>jobseekerId</th>\n",
       "      <th>jobId</th>\n",
       "      <th>applicationDate</th>\n",
       "      <th>jobseekerCity</th>\n",
       "      <th>jobseekerLastPosition</th>\n",
       "      <th>departmentName</th>\n",
       "      <th>totalExperienceYear</th>\n",
       "      <th>jobPosition</th>\n",
       "      <th>jobDescription</th>\n",
       "      <th>jobCity</th>\n",
       "      <th>minExperience</th>\n",
       "      <th>maxExperience</th>\n",
       "      <th>EnoughExp</th>\n",
       "    </tr>\n",
       "  </thead>\n",
       "  <tbody>\n",
       "    <tr>\n",
       "      <th>0</th>\n",
       "      <td>9133</td>\n",
       "      <td>2647244</td>\n",
       "      <td>2021-01-03 18:29:31.383</td>\n",
       "      <td>İstanbul(Asya)</td>\n",
       "      <td>Mali Danışman</td>\n",
       "      <td>Çalışma Ekonomisi ve Endüstri İlişkileri</td>\n",
       "      <td>24</td>\n",
       "      <td>Muhasebe Müdürü</td>\n",
       "      <td>&lt;p class=\"x_MsoNormal\"&gt;&lt;strong&gt;GENEL NİTELİKLE...</td>\n",
       "      <td>İstanbul(Avr.)</td>\n",
       "      <td>0</td>\n",
       "      <td>99</td>\n",
       "      <td>1</td>\n",
       "    </tr>\n",
       "    <tr>\n",
       "      <th>1</th>\n",
       "      <td>9133</td>\n",
       "      <td>2575774</td>\n",
       "      <td>2021-01-03 20:46:26.693</td>\n",
       "      <td>İstanbul(Asya)</td>\n",
       "      <td>Mali Danışman</td>\n",
       "      <td>Çalışma Ekonomisi ve Endüstri İlişkileri</td>\n",
       "      <td>24</td>\n",
       "      <td>Muhasebe Müdürü</td>\n",
       "      <td>&lt;p&gt;- Genel Muhasebe alanında en az 7 yıl ve üz...</td>\n",
       "      <td>İstanbul(Asya)</td>\n",
       "      <td>0</td>\n",
       "      <td>99</td>\n",
       "      <td>1</td>\n",
       "    </tr>\n",
       "    <tr>\n",
       "      <th>2</th>\n",
       "      <td>9133</td>\n",
       "      <td>2614546</td>\n",
       "      <td>2021-01-03 20:48:02.357</td>\n",
       "      <td>İstanbul(Asya)</td>\n",
       "      <td>Mali Danışman</td>\n",
       "      <td>Çalışma Ekonomisi ve Endüstri İlişkileri</td>\n",
       "      <td>24</td>\n",
       "      <td>Muhasebe Müdürü</td>\n",
       "      <td>&lt;p class=\"x_MsoNormal\"&gt;&lt;span&gt;Turizm Sektöründe...</td>\n",
       "      <td>İstanbul(Asya)</td>\n",
       "      <td>15</td>\n",
       "      <td>99</td>\n",
       "      <td>1</td>\n",
       "    </tr>\n",
       "    <tr>\n",
       "      <th>3</th>\n",
       "      <td>9133</td>\n",
       "      <td>2649353</td>\n",
       "      <td>2021-01-06 19:10:03.800</td>\n",
       "      <td>İstanbul(Asya)</td>\n",
       "      <td>Mali Danışman</td>\n",
       "      <td>Çalışma Ekonomisi ve Endüstri İlişkileri</td>\n",
       "      <td>24</td>\n",
       "      <td>Finans Müdürü</td>\n",
       "      <td>&lt;p&gt;&lt;/p&gt;&lt;p&gt;&lt;strong&gt;&lt;u&gt;Genel Nitelikler&lt;/u&gt;&lt;/str...</td>\n",
       "      <td>İstanbul(Asya)</td>\n",
       "      <td>7</td>\n",
       "      <td>99</td>\n",
       "      <td>1</td>\n",
       "    </tr>\n",
       "    <tr>\n",
       "      <th>4</th>\n",
       "      <td>9133</td>\n",
       "      <td>2621592</td>\n",
       "      <td>2021-01-07 10:32:55.957</td>\n",
       "      <td>İstanbul(Asya)</td>\n",
       "      <td>Mali Danışman</td>\n",
       "      <td>Çalışma Ekonomisi ve Endüstri İlişkileri</td>\n",
       "      <td>24</td>\n",
       "      <td>Muhasebe Sorumlusu</td>\n",
       "      <td>&lt;p class=\"x_x_x_x_x_MsoNormal\"&gt;&lt;span&gt;Sektöründ...</td>\n",
       "      <td>İstanbul(Asya)</td>\n",
       "      <td>5</td>\n",
       "      <td>99</td>\n",
       "      <td>1</td>\n",
       "    </tr>\n",
       "  </tbody>\n",
       "</table>\n",
       "</div>"
      ],
      "text/plain": [
       "   jobseekerId    jobId          applicationDate   jobseekerCity  \\\n",
       "0         9133  2647244  2021-01-03 18:29:31.383  İstanbul(Asya)   \n",
       "1         9133  2575774  2021-01-03 20:46:26.693  İstanbul(Asya)   \n",
       "2         9133  2614546  2021-01-03 20:48:02.357  İstanbul(Asya)   \n",
       "3         9133  2649353  2021-01-06 19:10:03.800  İstanbul(Asya)   \n",
       "4         9133  2621592  2021-01-07 10:32:55.957  İstanbul(Asya)   \n",
       "\n",
       "  jobseekerLastPosition                            departmentName  \\\n",
       "0         Mali Danışman  Çalışma Ekonomisi ve Endüstri İlişkileri   \n",
       "1         Mali Danışman  Çalışma Ekonomisi ve Endüstri İlişkileri   \n",
       "2         Mali Danışman  Çalışma Ekonomisi ve Endüstri İlişkileri   \n",
       "3         Mali Danışman  Çalışma Ekonomisi ve Endüstri İlişkileri   \n",
       "4         Mali Danışman  Çalışma Ekonomisi ve Endüstri İlişkileri   \n",
       "\n",
       "   totalExperienceYear         jobPosition  \\\n",
       "0                   24     Muhasebe Müdürü   \n",
       "1                   24     Muhasebe Müdürü   \n",
       "2                   24     Muhasebe Müdürü   \n",
       "3                   24       Finans Müdürü   \n",
       "4                   24  Muhasebe Sorumlusu   \n",
       "\n",
       "                                      jobDescription         jobCity  \\\n",
       "0  <p class=\"x_MsoNormal\"><strong>GENEL NİTELİKLE...  İstanbul(Avr.)   \n",
       "1  <p>- Genel Muhasebe alanında en az 7 yıl ve üz...  İstanbul(Asya)   \n",
       "2  <p class=\"x_MsoNormal\"><span>Turizm Sektöründe...  İstanbul(Asya)   \n",
       "3  <p></p><p><strong><u>Genel Nitelikler</u></str...  İstanbul(Asya)   \n",
       "4  <p class=\"x_x_x_x_x_MsoNormal\"><span>Sektöründ...  İstanbul(Asya)   \n",
       "\n",
       "   minExperience  maxExperience  EnoughExp  \n",
       "0              0             99          1  \n",
       "1              0             99          1  \n",
       "2             15             99          1  \n",
       "3              7             99          1  \n",
       "4              5             99          1  "
      ]
     },
     "execution_count": 5,
     "metadata": {},
     "output_type": "execute_result"
    }
   ],
   "source": [
    "cv_job_merge['EnoughExp']=np.where( (cv_job_merge.minExperience <= cv_job_merge.totalExperienceYear) & (cv_job_merge.totalExperienceYear <= cv_job_merge.maxExperience),1,0)\n",
    "cv_job_merge.head()"
   ]
  },
  {
   "cell_type": "code",
   "execution_count": 6,
   "metadata": {
    "execution": {
     "iopub.execute_input": "2021-05-28T11:36:21.138576Z",
     "iopub.status.busy": "2021-05-28T11:36:21.138275Z",
     "iopub.status.idle": "2021-05-28T11:36:28.622179Z",
     "shell.execute_reply": "2021-05-28T11:36:28.621310Z",
     "shell.execute_reply.started": "2021-05-28T11:36:21.138547Z"
    }
   },
   "outputs": [],
   "source": [
    "#City Control\n",
    "cv_job_merge.jobseekerCity=cv_job_merge.jobseekerCity.apply(lambda x:re.sub(\"[\\(\\[].*?[\\)\\]]\", \"\", x))\n",
    "cv_job_merge.jobCity=cv_job_merge.jobCity.apply(lambda x:re.sub(\"[\\(\\[].*?[\\)\\]]\", \"\", x))"
   ]
  },
  {
   "cell_type": "code",
   "execution_count": 7,
   "metadata": {
    "execution": {
     "iopub.execute_input": "2021-05-28T11:36:28.623834Z",
     "iopub.status.busy": "2021-05-28T11:36:28.623418Z",
     "iopub.status.idle": "2021-05-28T11:37:12.942843Z",
     "shell.execute_reply": "2021-05-28T11:37:12.942029Z",
     "shell.execute_reply.started": "2021-05-28T11:36:28.623795Z"
    }
   },
   "outputs": [
    {
     "data": {
      "text/html": [
       "<div>\n",
       "<style scoped>\n",
       "    .dataframe tbody tr th:only-of-type {\n",
       "        vertical-align: middle;\n",
       "    }\n",
       "\n",
       "    .dataframe tbody tr th {\n",
       "        vertical-align: top;\n",
       "    }\n",
       "\n",
       "    .dataframe thead th {\n",
       "        text-align: right;\n",
       "    }\n",
       "</style>\n",
       "<table border=\"1\" class=\"dataframe\">\n",
       "  <thead>\n",
       "    <tr style=\"text-align: right;\">\n",
       "      <th></th>\n",
       "      <th>jobseekerId</th>\n",
       "      <th>jobId</th>\n",
       "      <th>applicationDate</th>\n",
       "      <th>jobseekerCity</th>\n",
       "      <th>jobseekerLastPosition</th>\n",
       "      <th>departmentName</th>\n",
       "      <th>totalExperienceYear</th>\n",
       "      <th>jobPosition</th>\n",
       "      <th>jobDescription</th>\n",
       "      <th>jobCity</th>\n",
       "      <th>minExperience</th>\n",
       "      <th>maxExperience</th>\n",
       "      <th>EnoughExp</th>\n",
       "      <th>city_control</th>\n",
       "    </tr>\n",
       "  </thead>\n",
       "  <tbody>\n",
       "    <tr>\n",
       "      <th>0</th>\n",
       "      <td>9133</td>\n",
       "      <td>2647244</td>\n",
       "      <td>2021-01-03 18:29:31.383</td>\n",
       "      <td>İstanbul</td>\n",
       "      <td>Mali Danışman</td>\n",
       "      <td>Çalışma Ekonomisi ve Endüstri İlişkileri</td>\n",
       "      <td>24</td>\n",
       "      <td>Muhasebe Müdürü</td>\n",
       "      <td>&lt;p class=\"x_MsoNormal\"&gt;&lt;strong&gt;GENEL NİTELİKLE...</td>\n",
       "      <td>İstanbul</td>\n",
       "      <td>0</td>\n",
       "      <td>99</td>\n",
       "      <td>1</td>\n",
       "      <td>True</td>\n",
       "    </tr>\n",
       "    <tr>\n",
       "      <th>1</th>\n",
       "      <td>9133</td>\n",
       "      <td>2575774</td>\n",
       "      <td>2021-01-03 20:46:26.693</td>\n",
       "      <td>İstanbul</td>\n",
       "      <td>Mali Danışman</td>\n",
       "      <td>Çalışma Ekonomisi ve Endüstri İlişkileri</td>\n",
       "      <td>24</td>\n",
       "      <td>Muhasebe Müdürü</td>\n",
       "      <td>&lt;p&gt;- Genel Muhasebe alanında en az 7 yıl ve üz...</td>\n",
       "      <td>İstanbul</td>\n",
       "      <td>0</td>\n",
       "      <td>99</td>\n",
       "      <td>1</td>\n",
       "      <td>True</td>\n",
       "    </tr>\n",
       "    <tr>\n",
       "      <th>2</th>\n",
       "      <td>9133</td>\n",
       "      <td>2614546</td>\n",
       "      <td>2021-01-03 20:48:02.357</td>\n",
       "      <td>İstanbul</td>\n",
       "      <td>Mali Danışman</td>\n",
       "      <td>Çalışma Ekonomisi ve Endüstri İlişkileri</td>\n",
       "      <td>24</td>\n",
       "      <td>Muhasebe Müdürü</td>\n",
       "      <td>&lt;p class=\"x_MsoNormal\"&gt;&lt;span&gt;Turizm Sektöründe...</td>\n",
       "      <td>İstanbul</td>\n",
       "      <td>15</td>\n",
       "      <td>99</td>\n",
       "      <td>1</td>\n",
       "      <td>True</td>\n",
       "    </tr>\n",
       "    <tr>\n",
       "      <th>3</th>\n",
       "      <td>9133</td>\n",
       "      <td>2649353</td>\n",
       "      <td>2021-01-06 19:10:03.800</td>\n",
       "      <td>İstanbul</td>\n",
       "      <td>Mali Danışman</td>\n",
       "      <td>Çalışma Ekonomisi ve Endüstri İlişkileri</td>\n",
       "      <td>24</td>\n",
       "      <td>Finans Müdürü</td>\n",
       "      <td>&lt;p&gt;&lt;/p&gt;&lt;p&gt;&lt;strong&gt;&lt;u&gt;Genel Nitelikler&lt;/u&gt;&lt;/str...</td>\n",
       "      <td>İstanbul</td>\n",
       "      <td>7</td>\n",
       "      <td>99</td>\n",
       "      <td>1</td>\n",
       "      <td>True</td>\n",
       "    </tr>\n",
       "    <tr>\n",
       "      <th>4</th>\n",
       "      <td>9133</td>\n",
       "      <td>2621592</td>\n",
       "      <td>2021-01-07 10:32:55.957</td>\n",
       "      <td>İstanbul</td>\n",
       "      <td>Mali Danışman</td>\n",
       "      <td>Çalışma Ekonomisi ve Endüstri İlişkileri</td>\n",
       "      <td>24</td>\n",
       "      <td>Muhasebe Sorumlusu</td>\n",
       "      <td>&lt;p class=\"x_x_x_x_x_MsoNormal\"&gt;&lt;span&gt;Sektöründ...</td>\n",
       "      <td>İstanbul</td>\n",
       "      <td>5</td>\n",
       "      <td>99</td>\n",
       "      <td>1</td>\n",
       "      <td>True</td>\n",
       "    </tr>\n",
       "  </tbody>\n",
       "</table>\n",
       "</div>"
      ],
      "text/plain": [
       "   jobseekerId    jobId          applicationDate jobseekerCity  \\\n",
       "0         9133  2647244  2021-01-03 18:29:31.383      İstanbul   \n",
       "1         9133  2575774  2021-01-03 20:46:26.693      İstanbul   \n",
       "2         9133  2614546  2021-01-03 20:48:02.357      İstanbul   \n",
       "3         9133  2649353  2021-01-06 19:10:03.800      İstanbul   \n",
       "4         9133  2621592  2021-01-07 10:32:55.957      İstanbul   \n",
       "\n",
       "  jobseekerLastPosition                            departmentName  \\\n",
       "0         Mali Danışman  Çalışma Ekonomisi ve Endüstri İlişkileri   \n",
       "1         Mali Danışman  Çalışma Ekonomisi ve Endüstri İlişkileri   \n",
       "2         Mali Danışman  Çalışma Ekonomisi ve Endüstri İlişkileri   \n",
       "3         Mali Danışman  Çalışma Ekonomisi ve Endüstri İlişkileri   \n",
       "4         Mali Danışman  Çalışma Ekonomisi ve Endüstri İlişkileri   \n",
       "\n",
       "   totalExperienceYear         jobPosition  \\\n",
       "0                   24     Muhasebe Müdürü   \n",
       "1                   24     Muhasebe Müdürü   \n",
       "2                   24     Muhasebe Müdürü   \n",
       "3                   24       Finans Müdürü   \n",
       "4                   24  Muhasebe Sorumlusu   \n",
       "\n",
       "                                      jobDescription   jobCity  minExperience  \\\n",
       "0  <p class=\"x_MsoNormal\"><strong>GENEL NİTELİKLE...  İstanbul              0   \n",
       "1  <p>- Genel Muhasebe alanında en az 7 yıl ve üz...  İstanbul              0   \n",
       "2  <p class=\"x_MsoNormal\"><span>Turizm Sektöründe...  İstanbul             15   \n",
       "3  <p></p><p><strong><u>Genel Nitelikler</u></str...  İstanbul              7   \n",
       "4  <p class=\"x_x_x_x_x_MsoNormal\"><span>Sektöründ...  İstanbul              5   \n",
       "\n",
       "   maxExperience  EnoughExp  city_control  \n",
       "0             99          1          True  \n",
       "1             99          1          True  \n",
       "2             99          1          True  \n",
       "3             99          1          True  \n",
       "4             99          1          True  "
      ]
     },
     "execution_count": 7,
     "metadata": {},
     "output_type": "execute_result"
    }
   ],
   "source": [
    "cv_job_merge['city_control'] = cv_job_merge.apply(lambda x: x.jobseekerCity in x.jobCity, axis=1)\n",
    "cv_job_merge.head()"
   ]
  },
  {
   "cell_type": "code",
   "execution_count": 8,
   "metadata": {
    "execution": {
     "iopub.execute_input": "2021-05-28T11:37:12.946399Z",
     "iopub.status.busy": "2021-05-28T11:37:12.946052Z",
     "iopub.status.idle": "2021-05-28T11:37:13.658435Z",
     "shell.execute_reply": "2021-05-28T11:37:13.657525Z",
     "shell.execute_reply.started": "2021-05-28T11:37:12.946369Z"
    }
   },
   "outputs": [
    {
     "data": {
      "text/html": [
       "<div>\n",
       "<style scoped>\n",
       "    .dataframe tbody tr th:only-of-type {\n",
       "        vertical-align: middle;\n",
       "    }\n",
       "\n",
       "    .dataframe tbody tr th {\n",
       "        vertical-align: top;\n",
       "    }\n",
       "\n",
       "    .dataframe thead th {\n",
       "        text-align: right;\n",
       "    }\n",
       "</style>\n",
       "<table border=\"1\" class=\"dataframe\">\n",
       "  <thead>\n",
       "    <tr style=\"text-align: right;\">\n",
       "      <th></th>\n",
       "      <th>jobseekerId</th>\n",
       "      <th>jobPosition</th>\n",
       "      <th>jobId</th>\n",
       "    </tr>\n",
       "  </thead>\n",
       "  <tbody>\n",
       "    <tr>\n",
       "      <th>7</th>\n",
       "      <td>9133</td>\n",
       "      <td>Muhasebe Müdürü</td>\n",
       "      <td>8</td>\n",
       "    </tr>\n",
       "    <tr>\n",
       "      <th>15</th>\n",
       "      <td>10567</td>\n",
       "      <td>Proje Müdürü</td>\n",
       "      <td>2</td>\n",
       "    </tr>\n",
       "    <tr>\n",
       "      <th>27</th>\n",
       "      <td>16042</td>\n",
       "      <td>İnşaat Mühendisi</td>\n",
       "      <td>3</td>\n",
       "    </tr>\n",
       "    <tr>\n",
       "      <th>30</th>\n",
       "      <td>25661</td>\n",
       "      <td>Bölge Müdürü</td>\n",
       "      <td>1</td>\n",
       "    </tr>\n",
       "    <tr>\n",
       "      <th>46</th>\n",
       "      <td>28168</td>\n",
       "      <td>Satış Müdürü</td>\n",
       "      <td>2</td>\n",
       "    </tr>\n",
       "  </tbody>\n",
       "</table>\n",
       "</div>"
      ],
      "text/plain": [
       "    jobseekerId       jobPosition  jobId\n",
       "7          9133   Muhasebe Müdürü      8\n",
       "15        10567      Proje Müdürü      2\n",
       "27        16042  İnşaat Mühendisi      3\n",
       "30        25661      Bölge Müdürü      1\n",
       "46        28168      Satış Müdürü      2"
      ]
     },
     "execution_count": 8,
     "metadata": {},
     "output_type": "execute_result"
    }
   ],
   "source": [
    "cv_position_merge=cv_job_merge.groupby(['jobseekerId','jobPosition'],as_index=False).jobId.count().sort_values(by=['jobseekerId','jobId'], ascending=[True,False]).groupby('jobseekerId',as_index=False).head(1)\n",
    "cv_position_merge.head(5)"
   ]
  },
  {
   "cell_type": "code",
   "execution_count": 9,
   "metadata": {
    "execution": {
     "iopub.execute_input": "2021-05-28T11:37:13.660143Z",
     "iopub.status.busy": "2021-05-28T11:37:13.659877Z",
     "iopub.status.idle": "2021-05-28T11:37:14.698297Z",
     "shell.execute_reply": "2021-05-28T11:37:14.697404Z",
     "shell.execute_reply.started": "2021-05-28T11:37:13.660117Z"
    }
   },
   "outputs": [
    {
     "data": {
      "text/html": [
       "<div>\n",
       "<style scoped>\n",
       "    .dataframe tbody tr th:only-of-type {\n",
       "        vertical-align: middle;\n",
       "    }\n",
       "\n",
       "    .dataframe tbody tr th {\n",
       "        vertical-align: top;\n",
       "    }\n",
       "\n",
       "    .dataframe thead th {\n",
       "        text-align: right;\n",
       "    }\n",
       "</style>\n",
       "<table border=\"1\" class=\"dataframe\">\n",
       "  <thead>\n",
       "    <tr style=\"text-align: right;\">\n",
       "      <th></th>\n",
       "      <th>jobseekerId</th>\n",
       "      <th>jobId_x</th>\n",
       "      <th>applicationDate</th>\n",
       "      <th>jobseekerCity</th>\n",
       "      <th>jobseekerLastPosition</th>\n",
       "      <th>departmentName</th>\n",
       "      <th>totalExperienceYear</th>\n",
       "      <th>jobPosition_x</th>\n",
       "      <th>jobDescription</th>\n",
       "      <th>jobCity</th>\n",
       "      <th>minExperience</th>\n",
       "      <th>maxExperience</th>\n",
       "      <th>EnoughExp</th>\n",
       "      <th>city_control</th>\n",
       "      <th>jobPosition_y</th>\n",
       "      <th>jobId_y</th>\n",
       "    </tr>\n",
       "  </thead>\n",
       "  <tbody>\n",
       "    <tr>\n",
       "      <th>0</th>\n",
       "      <td>9133</td>\n",
       "      <td>2647244</td>\n",
       "      <td>2021-01-03 18:29:31.383</td>\n",
       "      <td>İstanbul</td>\n",
       "      <td>Mali Danışman</td>\n",
       "      <td>Çalışma Ekonomisi ve Endüstri İlişkileri</td>\n",
       "      <td>24</td>\n",
       "      <td>Muhasebe Müdürü</td>\n",
       "      <td>&lt;p class=\"x_MsoNormal\"&gt;&lt;strong&gt;GENEL NİTELİKLE...</td>\n",
       "      <td>İstanbul</td>\n",
       "      <td>0</td>\n",
       "      <td>99</td>\n",
       "      <td>1</td>\n",
       "      <td>True</td>\n",
       "      <td>Muhasebe Müdürü</td>\n",
       "      <td>8</td>\n",
       "    </tr>\n",
       "    <tr>\n",
       "      <th>1</th>\n",
       "      <td>9133</td>\n",
       "      <td>2575774</td>\n",
       "      <td>2021-01-03 20:46:26.693</td>\n",
       "      <td>İstanbul</td>\n",
       "      <td>Mali Danışman</td>\n",
       "      <td>Çalışma Ekonomisi ve Endüstri İlişkileri</td>\n",
       "      <td>24</td>\n",
       "      <td>Muhasebe Müdürü</td>\n",
       "      <td>&lt;p&gt;- Genel Muhasebe alanında en az 7 yıl ve üz...</td>\n",
       "      <td>İstanbul</td>\n",
       "      <td>0</td>\n",
       "      <td>99</td>\n",
       "      <td>1</td>\n",
       "      <td>True</td>\n",
       "      <td>Muhasebe Müdürü</td>\n",
       "      <td>8</td>\n",
       "    </tr>\n",
       "    <tr>\n",
       "      <th>2</th>\n",
       "      <td>9133</td>\n",
       "      <td>2614546</td>\n",
       "      <td>2021-01-03 20:48:02.357</td>\n",
       "      <td>İstanbul</td>\n",
       "      <td>Mali Danışman</td>\n",
       "      <td>Çalışma Ekonomisi ve Endüstri İlişkileri</td>\n",
       "      <td>24</td>\n",
       "      <td>Muhasebe Müdürü</td>\n",
       "      <td>&lt;p class=\"x_MsoNormal\"&gt;&lt;span&gt;Turizm Sektöründe...</td>\n",
       "      <td>İstanbul</td>\n",
       "      <td>15</td>\n",
       "      <td>99</td>\n",
       "      <td>1</td>\n",
       "      <td>True</td>\n",
       "      <td>Muhasebe Müdürü</td>\n",
       "      <td>8</td>\n",
       "    </tr>\n",
       "    <tr>\n",
       "      <th>3</th>\n",
       "      <td>9133</td>\n",
       "      <td>2649353</td>\n",
       "      <td>2021-01-06 19:10:03.800</td>\n",
       "      <td>İstanbul</td>\n",
       "      <td>Mali Danışman</td>\n",
       "      <td>Çalışma Ekonomisi ve Endüstri İlişkileri</td>\n",
       "      <td>24</td>\n",
       "      <td>Finans Müdürü</td>\n",
       "      <td>&lt;p&gt;&lt;/p&gt;&lt;p&gt;&lt;strong&gt;&lt;u&gt;Genel Nitelikler&lt;/u&gt;&lt;/str...</td>\n",
       "      <td>İstanbul</td>\n",
       "      <td>7</td>\n",
       "      <td>99</td>\n",
       "      <td>1</td>\n",
       "      <td>True</td>\n",
       "      <td>Muhasebe Müdürü</td>\n",
       "      <td>8</td>\n",
       "    </tr>\n",
       "    <tr>\n",
       "      <th>4</th>\n",
       "      <td>9133</td>\n",
       "      <td>2621592</td>\n",
       "      <td>2021-01-07 10:32:55.957</td>\n",
       "      <td>İstanbul</td>\n",
       "      <td>Mali Danışman</td>\n",
       "      <td>Çalışma Ekonomisi ve Endüstri İlişkileri</td>\n",
       "      <td>24</td>\n",
       "      <td>Muhasebe Sorumlusu</td>\n",
       "      <td>&lt;p class=\"x_x_x_x_x_MsoNormal\"&gt;&lt;span&gt;Sektöründ...</td>\n",
       "      <td>İstanbul</td>\n",
       "      <td>5</td>\n",
       "      <td>99</td>\n",
       "      <td>1</td>\n",
       "      <td>True</td>\n",
       "      <td>Muhasebe Müdürü</td>\n",
       "      <td>8</td>\n",
       "    </tr>\n",
       "  </tbody>\n",
       "</table>\n",
       "</div>"
      ],
      "text/plain": [
       "   jobseekerId  jobId_x          applicationDate jobseekerCity  \\\n",
       "0         9133  2647244  2021-01-03 18:29:31.383      İstanbul   \n",
       "1         9133  2575774  2021-01-03 20:46:26.693      İstanbul   \n",
       "2         9133  2614546  2021-01-03 20:48:02.357      İstanbul   \n",
       "3         9133  2649353  2021-01-06 19:10:03.800      İstanbul   \n",
       "4         9133  2621592  2021-01-07 10:32:55.957      İstanbul   \n",
       "\n",
       "  jobseekerLastPosition                            departmentName  \\\n",
       "0         Mali Danışman  Çalışma Ekonomisi ve Endüstri İlişkileri   \n",
       "1         Mali Danışman  Çalışma Ekonomisi ve Endüstri İlişkileri   \n",
       "2         Mali Danışman  Çalışma Ekonomisi ve Endüstri İlişkileri   \n",
       "3         Mali Danışman  Çalışma Ekonomisi ve Endüstri İlişkileri   \n",
       "4         Mali Danışman  Çalışma Ekonomisi ve Endüstri İlişkileri   \n",
       "\n",
       "   totalExperienceYear       jobPosition_x  \\\n",
       "0                   24     Muhasebe Müdürü   \n",
       "1                   24     Muhasebe Müdürü   \n",
       "2                   24     Muhasebe Müdürü   \n",
       "3                   24       Finans Müdürü   \n",
       "4                   24  Muhasebe Sorumlusu   \n",
       "\n",
       "                                      jobDescription   jobCity  minExperience  \\\n",
       "0  <p class=\"x_MsoNormal\"><strong>GENEL NİTELİKLE...  İstanbul              0   \n",
       "1  <p>- Genel Muhasebe alanında en az 7 yıl ve üz...  İstanbul              0   \n",
       "2  <p class=\"x_MsoNormal\"><span>Turizm Sektöründe...  İstanbul             15   \n",
       "3  <p></p><p><strong><u>Genel Nitelikler</u></str...  İstanbul              7   \n",
       "4  <p class=\"x_x_x_x_x_MsoNormal\"><span>Sektöründ...  İstanbul              5   \n",
       "\n",
       "   maxExperience  EnoughExp  city_control    jobPosition_y  jobId_y  \n",
       "0             99          1          True  Muhasebe Müdürü        8  \n",
       "1             99          1          True  Muhasebe Müdürü        8  \n",
       "2             99          1          True  Muhasebe Müdürü        8  \n",
       "3             99          1          True  Muhasebe Müdürü        8  \n",
       "4             99          1          True  Muhasebe Müdürü        8  "
      ]
     },
     "execution_count": 9,
     "metadata": {},
     "output_type": "execute_result"
    }
   ],
   "source": [
    "cv_job_merge=pd.merge(cv_job_merge,cv_position_merge,how='left',on='jobseekerId')\n",
    "cv_job_merge.head()"
   ]
  },
  {
   "cell_type": "code",
   "execution_count": 10,
   "metadata": {
    "execution": {
     "iopub.execute_input": "2021-05-28T11:37:14.699675Z",
     "iopub.status.busy": "2021-05-28T11:37:14.699419Z",
     "iopub.status.idle": "2021-05-28T11:37:15.330953Z",
     "shell.execute_reply": "2021-05-28T11:37:15.330321Z",
     "shell.execute_reply.started": "2021-05-28T11:37:14.699649Z"
    }
   },
   "outputs": [
    {
     "data": {
      "text/html": [
       "<div>\n",
       "<style scoped>\n",
       "    .dataframe tbody tr th:only-of-type {\n",
       "        vertical-align: middle;\n",
       "    }\n",
       "\n",
       "    .dataframe tbody tr th {\n",
       "        vertical-align: top;\n",
       "    }\n",
       "\n",
       "    .dataframe thead th {\n",
       "        text-align: right;\n",
       "    }\n",
       "</style>\n",
       "<table border=\"1\" class=\"dataframe\">\n",
       "  <thead>\n",
       "    <tr style=\"text-align: right;\">\n",
       "      <th></th>\n",
       "      <th>jobseekerId</th>\n",
       "      <th>jobId_x</th>\n",
       "      <th>applicationDate</th>\n",
       "      <th>jobseekerCity</th>\n",
       "      <th>jobseekerLastPosition</th>\n",
       "      <th>departmentName</th>\n",
       "      <th>totalExperienceYear</th>\n",
       "      <th>jobPosition_x</th>\n",
       "      <th>jobDescription</th>\n",
       "      <th>jobCity</th>\n",
       "      <th>minExperience</th>\n",
       "      <th>maxExperience</th>\n",
       "      <th>EnoughExp</th>\n",
       "      <th>city_control</th>\n",
       "      <th>jobPosition_y</th>\n",
       "      <th>jobId_y</th>\n",
       "      <th>jobPosition_rule</th>\n",
       "    </tr>\n",
       "  </thead>\n",
       "  <tbody>\n",
       "    <tr>\n",
       "      <th>0</th>\n",
       "      <td>9133</td>\n",
       "      <td>2647244</td>\n",
       "      <td>2021-01-03 18:29:31.383</td>\n",
       "      <td>İstanbul</td>\n",
       "      <td>Mali Danışman</td>\n",
       "      <td>Çalışma Ekonomisi ve Endüstri İlişkileri</td>\n",
       "      <td>24</td>\n",
       "      <td>Muhasebe Müdürü</td>\n",
       "      <td>&lt;p class=\"x_MsoNormal\"&gt;&lt;strong&gt;GENEL NİTELİKLE...</td>\n",
       "      <td>İstanbul</td>\n",
       "      <td>0</td>\n",
       "      <td>99</td>\n",
       "      <td>1</td>\n",
       "      <td>True</td>\n",
       "      <td>Muhasebe Müdürü</td>\n",
       "      <td>8</td>\n",
       "      <td>1</td>\n",
       "    </tr>\n",
       "    <tr>\n",
       "      <th>1</th>\n",
       "      <td>9133</td>\n",
       "      <td>2575774</td>\n",
       "      <td>2021-01-03 20:46:26.693</td>\n",
       "      <td>İstanbul</td>\n",
       "      <td>Mali Danışman</td>\n",
       "      <td>Çalışma Ekonomisi ve Endüstri İlişkileri</td>\n",
       "      <td>24</td>\n",
       "      <td>Muhasebe Müdürü</td>\n",
       "      <td>&lt;p&gt;- Genel Muhasebe alanında en az 7 yıl ve üz...</td>\n",
       "      <td>İstanbul</td>\n",
       "      <td>0</td>\n",
       "      <td>99</td>\n",
       "      <td>1</td>\n",
       "      <td>True</td>\n",
       "      <td>Muhasebe Müdürü</td>\n",
       "      <td>8</td>\n",
       "      <td>1</td>\n",
       "    </tr>\n",
       "    <tr>\n",
       "      <th>2</th>\n",
       "      <td>9133</td>\n",
       "      <td>2614546</td>\n",
       "      <td>2021-01-03 20:48:02.357</td>\n",
       "      <td>İstanbul</td>\n",
       "      <td>Mali Danışman</td>\n",
       "      <td>Çalışma Ekonomisi ve Endüstri İlişkileri</td>\n",
       "      <td>24</td>\n",
       "      <td>Muhasebe Müdürü</td>\n",
       "      <td>&lt;p class=\"x_MsoNormal\"&gt;&lt;span&gt;Turizm Sektöründe...</td>\n",
       "      <td>İstanbul</td>\n",
       "      <td>15</td>\n",
       "      <td>99</td>\n",
       "      <td>1</td>\n",
       "      <td>True</td>\n",
       "      <td>Muhasebe Müdürü</td>\n",
       "      <td>8</td>\n",
       "      <td>1</td>\n",
       "    </tr>\n",
       "    <tr>\n",
       "      <th>3</th>\n",
       "      <td>9133</td>\n",
       "      <td>2649353</td>\n",
       "      <td>2021-01-06 19:10:03.800</td>\n",
       "      <td>İstanbul</td>\n",
       "      <td>Mali Danışman</td>\n",
       "      <td>Çalışma Ekonomisi ve Endüstri İlişkileri</td>\n",
       "      <td>24</td>\n",
       "      <td>Finans Müdürü</td>\n",
       "      <td>&lt;p&gt;&lt;/p&gt;&lt;p&gt;&lt;strong&gt;&lt;u&gt;Genel Nitelikler&lt;/u&gt;&lt;/str...</td>\n",
       "      <td>İstanbul</td>\n",
       "      <td>7</td>\n",
       "      <td>99</td>\n",
       "      <td>1</td>\n",
       "      <td>True</td>\n",
       "      <td>Muhasebe Müdürü</td>\n",
       "      <td>8</td>\n",
       "      <td>0</td>\n",
       "    </tr>\n",
       "    <tr>\n",
       "      <th>4</th>\n",
       "      <td>9133</td>\n",
       "      <td>2621592</td>\n",
       "      <td>2021-01-07 10:32:55.957</td>\n",
       "      <td>İstanbul</td>\n",
       "      <td>Mali Danışman</td>\n",
       "      <td>Çalışma Ekonomisi ve Endüstri İlişkileri</td>\n",
       "      <td>24</td>\n",
       "      <td>Muhasebe Sorumlusu</td>\n",
       "      <td>&lt;p class=\"x_x_x_x_x_MsoNormal\"&gt;&lt;span&gt;Sektöründ...</td>\n",
       "      <td>İstanbul</td>\n",
       "      <td>5</td>\n",
       "      <td>99</td>\n",
       "      <td>1</td>\n",
       "      <td>True</td>\n",
       "      <td>Muhasebe Müdürü</td>\n",
       "      <td>8</td>\n",
       "      <td>0</td>\n",
       "    </tr>\n",
       "  </tbody>\n",
       "</table>\n",
       "</div>"
      ],
      "text/plain": [
       "   jobseekerId  jobId_x          applicationDate jobseekerCity  \\\n",
       "0         9133  2647244  2021-01-03 18:29:31.383      İstanbul   \n",
       "1         9133  2575774  2021-01-03 20:46:26.693      İstanbul   \n",
       "2         9133  2614546  2021-01-03 20:48:02.357      İstanbul   \n",
       "3         9133  2649353  2021-01-06 19:10:03.800      İstanbul   \n",
       "4         9133  2621592  2021-01-07 10:32:55.957      İstanbul   \n",
       "\n",
       "  jobseekerLastPosition                            departmentName  \\\n",
       "0         Mali Danışman  Çalışma Ekonomisi ve Endüstri İlişkileri   \n",
       "1         Mali Danışman  Çalışma Ekonomisi ve Endüstri İlişkileri   \n",
       "2         Mali Danışman  Çalışma Ekonomisi ve Endüstri İlişkileri   \n",
       "3         Mali Danışman  Çalışma Ekonomisi ve Endüstri İlişkileri   \n",
       "4         Mali Danışman  Çalışma Ekonomisi ve Endüstri İlişkileri   \n",
       "\n",
       "   totalExperienceYear       jobPosition_x  \\\n",
       "0                   24     Muhasebe Müdürü   \n",
       "1                   24     Muhasebe Müdürü   \n",
       "2                   24     Muhasebe Müdürü   \n",
       "3                   24       Finans Müdürü   \n",
       "4                   24  Muhasebe Sorumlusu   \n",
       "\n",
       "                                      jobDescription   jobCity  minExperience  \\\n",
       "0  <p class=\"x_MsoNormal\"><strong>GENEL NİTELİKLE...  İstanbul              0   \n",
       "1  <p>- Genel Muhasebe alanında en az 7 yıl ve üz...  İstanbul              0   \n",
       "2  <p class=\"x_MsoNormal\"><span>Turizm Sektöründe...  İstanbul             15   \n",
       "3  <p></p><p><strong><u>Genel Nitelikler</u></str...  İstanbul              7   \n",
       "4  <p class=\"x_x_x_x_x_MsoNormal\"><span>Sektöründ...  İstanbul              5   \n",
       "\n",
       "   maxExperience  EnoughExp  city_control    jobPosition_y  jobId_y  \\\n",
       "0             99          1          True  Muhasebe Müdürü        8   \n",
       "1             99          1          True  Muhasebe Müdürü        8   \n",
       "2             99          1          True  Muhasebe Müdürü        8   \n",
       "3             99          1          True  Muhasebe Müdürü        8   \n",
       "4             99          1          True  Muhasebe Müdürü        8   \n",
       "\n",
       "   jobPosition_rule  \n",
       "0                 1  \n",
       "1                 1  \n",
       "2                 1  \n",
       "3                 0  \n",
       "4                 0  "
      ]
     },
     "execution_count": 10,
     "metadata": {},
     "output_type": "execute_result"
    }
   ],
   "source": [
    "#Job Position Rule\n",
    "cv_job_merge['jobPosition_rule']=np.where( (cv_job_merge.jobseekerLastPosition==cv_job_merge.jobPosition_x) |(cv_job_merge.jobPosition_x==cv_job_merge.jobPosition_y) ,1,0)\n",
    "cv_job_merge.head()"
   ]
  },
  {
   "cell_type": "code",
   "execution_count": 11,
   "metadata": {
    "execution": {
     "iopub.execute_input": "2021-05-28T11:37:15.332240Z",
     "iopub.status.busy": "2021-05-28T11:37:15.331943Z",
     "iopub.status.idle": "2021-05-28T11:37:16.168624Z",
     "shell.execute_reply": "2021-05-28T11:37:16.167965Z",
     "shell.execute_reply.started": "2021-05-28T11:37:15.332212Z"
    }
   },
   "outputs": [
    {
     "data": {
      "text/plain": [
       "<AxesSubplot:>"
      ]
     },
     "execution_count": 11,
     "metadata": {},
     "output_type": "execute_result"
    },
    {
     "data": {
      "image/png": "[encoded data removed]",
      "text/plain": [
       "<Figure size 432x288 with 1 Axes>"
      ]
     },
     "metadata": {
      "needs_background": "light"
     },
     "output_type": "display_data"
    }
   ],
   "source": [
    "#Combining all ratings into one and distribution of the rating among the jobseekers\n",
    "cv_job_merge['rating']=1+cv_job_merge.EnoughExp+cv_job_merge.city_control+cv_job_merge.jobPosition_rule\n",
    "df=cv_job_merge[['jobId_x','jobseekerId','rating']]\n",
    "df.rating.hist()"
   ]
  },
  {
   "cell_type": "code",
   "execution_count": 12,
   "metadata": {
    "execution": {
     "iopub.execute_input": "2021-05-28T11:37:16.169916Z",
     "iopub.status.busy": "2021-05-28T11:37:16.169558Z",
     "iopub.status.idle": "2021-05-28T11:37:18.559371Z",
     "shell.execute_reply": "2021-05-28T11:37:18.558369Z",
     "shell.execute_reply.started": "2021-05-28T11:37:16.169889Z"
    }
   },
   "outputs": [
    {
     "name": "stderr",
     "output_type": "stream",
     "text": [
      "/opt/conda/lib/python3.7/site-packages/ipykernel_launcher.py:1: SettingWithCopyWarning: \n",
      "A value is trying to be set on a copy of a slice from a DataFrame.\n",
      "Try using .loc[row_indexer,col_indexer] = value instead\n",
      "\n",
      "See the caveats in the documentation: https://pandas.pydata.org/pandas-docs/stable/user_guide/indexing.html#returning-a-view-versus-a-copy\n",
      "  \"\"\"Entry point for launching an IPython kernel.\n"
     ]
    }
   ],
   "source": [
    "df['jobId_x'] = 'I' + df['jobId_x'].astype(str)"
   ]
  },
  {
   "cell_type": "code",
   "execution_count": 14,
   "metadata": {
    "execution": {
     "iopub.execute_input": "2021-05-28T11:37:19.289514Z",
     "iopub.status.busy": "2021-05-28T11:37:19.289221Z",
     "iopub.status.idle": "2021-05-28T11:37:21.071943Z",
     "shell.execute_reply": "2021-05-28T11:37:21.070988Z",
     "shell.execute_reply.started": "2021-05-28T11:37:19.289487Z"
    }
   },
   "outputs": [
    {
     "data": {
      "text/plain": [
       "<33992x103896 sparse matrix of type '<class 'numpy.int64'>'\n",
       "\twith 1673959 stored elements in Compressed Sparse Row format>"
      ]
     },
     "execution_count": 14,
     "metadata": {},
     "output_type": "execute_result"
    }
   ],
   "source": [
    "jobId = list(np.sort(df.jobId_x.unique())) \n",
    "jobseekerId = list(np.sort(df.jobseekerId.unique()))\n",
    "rating = list(df.rating)\n",
    "\n",
    "\n",
    "cols = df.jobseekerId.astype(CategoricalDtype(categories=jobseekerId)).cat.codes \n",
    "\n",
    "rows = df.jobId_x.astype(CategoricalDtype(categories= jobId)).cat.codes \n",
    "# Get the associated column indices \n",
    "#Compressed Sparse Row matrix \n",
    "sparse_data = sparse.csr_matrix((rating, (rows, cols)), shape=(len(jobId),len(jobseekerId))) \n",
    "sparse_data"
   ]
  },
  {
   "cell_type": "code",
   "execution_count": 17,
   "metadata": {
    "execution": {
     "iopub.execute_input": "2021-05-28T11:37:21.097262Z",
     "iopub.status.busy": "2021-05-28T11:37:21.096923Z",
     "iopub.status.idle": "2021-05-28T11:37:23.507944Z",
     "shell.execute_reply": "2021-05-28T11:37:23.507029Z",
     "shell.execute_reply.started": "2021-05-28T11:37:21.097234Z"
    }
   },
   "outputs": [],
   "source": [
    "user_label_encoder = LabelEncoder()\n",
    "user_ids = user_label_encoder.fit_transform(df.jobseekerId)\n",
    "product_label_encoder = LabelEncoder()\n",
    "product_ids = product_label_encoder.fit_transform(df.jobId_x)\n",
    "# compute recommendations\n",
    "\n",
    "\n",
    "similarity = cosine_similarity(sparse_data,dense_output=False)\n",
    "test=user_label_encoder.transform(son2_basvuranlar_test.jobseekerId.unique())"
   ]
  },
  {
   "cell_type": "code",
   "execution_count": 18,
   "metadata": {
    "execution": {
     "iopub.execute_input": "2021-05-28T11:37:23.509478Z",
     "iopub.status.busy": "2021-05-28T11:37:23.509132Z",
     "iopub.status.idle": "2021-05-28T11:37:23.559134Z",
     "shell.execute_reply": "2021-05-28T11:37:23.558185Z",
     "shell.execute_reply.started": "2021-05-28T11:37:23.509449Z"
    }
   },
   "outputs": [],
   "source": [
    "CustomerSalesItemMatrix = csr_matrix(sparse_data.T)"
   ]
  },
  {
   "cell_type": "code",
   "execution_count": 19,
   "metadata": {
    "execution": {
     "iopub.execute_input": "2021-05-28T11:37:54.427061Z",
     "iopub.status.busy": "2021-05-28T11:37:54.426609Z",
     "iopub.status.idle": "2021-05-28T11:38:32.673253Z",
     "shell.execute_reply": "2021-05-28T11:38:32.672485Z",
     "shell.execute_reply.started": "2021-05-28T11:37:54.427032Z"
    }
   },
   "outputs": [],
   "source": [
    "CustomerSalesItemScores = CustomerSalesItemMatrix.dot(similarity) \n",
    "\n",
    "# sum of similarities to all purchased products"
   ]
  },
  {
   "cell_type": "code",
   "execution_count": 20,
   "metadata": {
    "execution": {
     "iopub.execute_input": "2021-05-28T11:38:40.884265Z",
     "iopub.status.busy": "2021-05-28T11:38:40.883791Z",
     "iopub.status.idle": "2021-05-28T11:38:40.930400Z",
     "shell.execute_reply": "2021-05-28T11:38:40.929454Z",
     "shell.execute_reply.started": "2021-05-28T11:38:40.884235Z"
    }
   },
   "outputs": [
    {
     "name": "stdout",
     "output_type": "stream",
     "text": [
      "Variable                Type         Data/Info\n",
      "----------------------------------------------\n",
      "aday_log                DataFrame             Unnamed: 0  jobs<...>1673959 rows x 4 columns]\n",
      "cv_details              DataFrame            Unnamed: 0  jobse<...>[194877 rows x 6 columns]\n",
      "cv_job_merge            DataFrame             jobseekerId  job<...>673959 rows x 18 columns]\n",
      "cv_log_merge            DataFrame             Unnamed: 0_x  jo<...>1673959 rows x 9 columns]\n",
      "cv_position_merge       DataFrame             jobseekerId     <...>[103896 rows x 3 columns]\n",
      "df                      DataFrame              jobId_x  jobsee<...>1673959 rows x 3 columns]\n",
      "job_details             DataFrame           Unnamed: 0    jobI<...>n[39477 rows x 7 columns]\n",
      "son2_basvuranlar_test   DataFrame            jobseekerId  jobI<...>[115598 rows x 2 columns]\n"
     ]
    }
   ],
   "source": [
    "%whos DataFrame"
   ]
  },
  {
   "cell_type": "code",
   "execution_count": 21,
   "metadata": {
    "execution": {
     "iopub.execute_input": "2021-05-28T11:38:42.353378Z",
     "iopub.status.busy": "2021-05-28T11:38:42.352910Z",
     "iopub.status.idle": "2021-05-28T11:38:42.542525Z",
     "shell.execute_reply": "2021-05-28T11:38:42.541761Z",
     "shell.execute_reply.started": "2021-05-28T11:38:42.353336Z"
    }
   },
   "outputs": [],
   "source": [
    "#Delete some df for space\n",
    "del aday_log,cv_details,cv_job_merge,cv_log_merge,cv_position_merge,df,job_details"
   ]
  },
  {
   "cell_type": "code",
   "execution_count": 23,
   "metadata": {
    "execution": {
     "iopub.execute_input": "2021-05-28T11:39:42.244039Z",
     "iopub.status.busy": "2021-05-28T11:39:42.243704Z",
     "iopub.status.idle": "2021-05-28T11:39:42.249661Z",
     "shell.execute_reply": "2021-05-28T11:39:42.248952Z",
     "shell.execute_reply.started": "2021-05-28T11:39:42.244011Z"
    }
   },
   "outputs": [
    {
     "data": {
      "text/plain": [
       "<103896x33992 sparse matrix of type '<class 'numpy.float64'>'\n",
       "\twith 1047818214 stored elements in Compressed Sparse Row format>"
      ]
     },
     "execution_count": 23,
     "metadata": {},
     "output_type": "execute_result"
    }
   ],
   "source": [
    "CustomerSalesItemScores"
   ]
  },
  {
   "cell_type": "code",
   "execution_count": 24,
   "metadata": {
    "execution": {
     "iopub.execute_input": "2021-05-28T11:40:25.926390Z",
     "iopub.status.busy": "2021-05-28T11:40:25.925914Z",
     "iopub.status.idle": "2021-05-28T11:45:53.330485Z",
     "shell.execute_reply": "2021-05-28T11:45:53.329476Z",
     "shell.execute_reply.started": "2021-05-28T11:40:25.926361Z"
    }
   },
   "outputs": [],
   "source": [
    "RecForCust = pd.DataFrame()\n",
    "for user_id in range(CustomerSalesItemScores.shape[0]):\n",
    "    scores = CustomerSalesItemScores[user_id, :].toarray().flatten()\n",
    "    purchased_items = CustomerSalesItemMatrix.indices[CustomerSalesItemMatrix.indptr[user_id]:\n",
    "                                                      CustomerSalesItemMatrix.indptr[user_id+1]]\n",
    "    scores[purchased_items] = -1 # do not recommend already purchased SalesItems\n",
    "    top_products_ids = np.argsort(scores)[-10:][::-1]\n",
    "    recommendations = pd.DataFrame(top_products_ids.reshape(1, -1),\n",
    "                                   index=[user_id],\n",
    "                                   columns=['Top%s' % (i+1) for i in range(10)])\n",
    "    RecForCust=RecForCust.append(recommendations)"
   ]
  },
  {
   "cell_type": "code",
   "execution_count": 25,
   "metadata": {
    "execution": {
     "iopub.execute_input": "2021-05-28T11:46:12.427969Z",
     "iopub.status.busy": "2021-05-28T11:46:12.427644Z",
     "iopub.status.idle": "2021-05-28T11:46:12.570218Z",
     "shell.execute_reply": "2021-05-28T11:46:12.569237Z",
     "shell.execute_reply.started": "2021-05-28T11:46:12.427941Z"
    }
   },
   "outputs": [],
   "source": [
    "RecForCust.index = user_label_encoder.inverse_transform(RecForCust.index)\n",
    "for i in range(RecForCust.shape[1]):\n",
    "    RecForCust.iloc[:, i] = product_label_encoder.inverse_transform(RecForCust.iloc[:, i])"
   ]
  },
  {
   "cell_type": "code",
   "execution_count": 26,
   "metadata": {
    "execution": {
     "iopub.execute_input": "2021-05-28T11:46:13.701373Z",
     "iopub.status.busy": "2021-05-28T11:46:13.700983Z",
     "iopub.status.idle": "2021-05-28T11:46:13.719520Z",
     "shell.execute_reply": "2021-05-28T11:46:13.718361Z",
     "shell.execute_reply.started": "2021-05-28T11:46:13.701341Z"
    }
   },
   "outputs": [
    {
     "data": {
      "text/html": [
       "<div>\n",
       "<style scoped>\n",
       "    .dataframe tbody tr th:only-of-type {\n",
       "        vertical-align: middle;\n",
       "    }\n",
       "\n",
       "    .dataframe tbody tr th {\n",
       "        vertical-align: top;\n",
       "    }\n",
       "\n",
       "    .dataframe thead th {\n",
       "        text-align: right;\n",
       "    }\n",
       "</style>\n",
       "<table border=\"1\" class=\"dataframe\">\n",
       "  <thead>\n",
       "    <tr style=\"text-align: right;\">\n",
       "      <th></th>\n",
       "      <th>Top1</th>\n",
       "      <th>Top2</th>\n",
       "      <th>Top3</th>\n",
       "      <th>Top4</th>\n",
       "      <th>Top5</th>\n",
       "      <th>Top6</th>\n",
       "      <th>Top7</th>\n",
       "      <th>Top8</th>\n",
       "      <th>Top9</th>\n",
       "      <th>Top10</th>\n",
       "    </tr>\n",
       "  </thead>\n",
       "  <tbody>\n",
       "    <tr>\n",
       "      <th>9133</th>\n",
       "      <td>I2369581</td>\n",
       "      <td>I2646667</td>\n",
       "      <td>I2653618</td>\n",
       "      <td>I2650494</td>\n",
       "      <td>I2647321</td>\n",
       "      <td>I2647551</td>\n",
       "      <td>I2655317</td>\n",
       "      <td>I2653180</td>\n",
       "      <td>I2646416</td>\n",
       "      <td>I2654889</td>\n",
       "    </tr>\n",
       "    <tr>\n",
       "      <th>10567</th>\n",
       "      <td>I2639389</td>\n",
       "      <td>I2649944</td>\n",
       "      <td>I2648411</td>\n",
       "      <td>I2641545</td>\n",
       "      <td>I2639862</td>\n",
       "      <td>I2639975</td>\n",
       "      <td>I2646669</td>\n",
       "      <td>I2641108</td>\n",
       "      <td>I2651088</td>\n",
       "      <td>I2636764</td>\n",
       "    </tr>\n",
       "    <tr>\n",
       "      <th>16042</th>\n",
       "      <td>I2647264</td>\n",
       "      <td>I2655143</td>\n",
       "      <td>I2650463</td>\n",
       "      <td>I2653260</td>\n",
       "      <td>I2655710</td>\n",
       "      <td>I2649197</td>\n",
       "      <td>I2652830</td>\n",
       "      <td>I2651812</td>\n",
       "      <td>I2524622</td>\n",
       "      <td>I2648306</td>\n",
       "    </tr>\n",
       "    <tr>\n",
       "      <th>25661</th>\n",
       "      <td>I2652341</td>\n",
       "      <td>I2651183</td>\n",
       "      <td>I2647251</td>\n",
       "      <td>I2655291</td>\n",
       "      <td>I2647191</td>\n",
       "      <td>I2649583</td>\n",
       "      <td>I2650926</td>\n",
       "      <td>I2647167</td>\n",
       "      <td>I2648429</td>\n",
       "      <td>I2653750</td>\n",
       "    </tr>\n",
       "    <tr>\n",
       "      <th>28168</th>\n",
       "      <td>I2646585</td>\n",
       "      <td>I2650027</td>\n",
       "      <td>I2650013</td>\n",
       "      <td>I2647813</td>\n",
       "      <td>I2646825</td>\n",
       "      <td>I2648280</td>\n",
       "      <td>I2650378</td>\n",
       "      <td>I2647300</td>\n",
       "      <td>I2652159</td>\n",
       "      <td>I2654683</td>\n",
       "    </tr>\n",
       "  </tbody>\n",
       "</table>\n",
       "</div>"
      ],
      "text/plain": [
       "           Top1      Top2      Top3      Top4      Top5      Top6      Top7  \\\n",
       "9133   I2369581  I2646667  I2653618  I2650494  I2647321  I2647551  I2655317   \n",
       "10567  I2639389  I2649944  I2648411  I2641545  I2639862  I2639975  I2646669   \n",
       "16042  I2647264  I2655143  I2650463  I2653260  I2655710  I2649197  I2652830   \n",
       "25661  I2652341  I2651183  I2647251  I2655291  I2647191  I2649583  I2650926   \n",
       "28168  I2646585  I2650027  I2650013  I2647813  I2646825  I2648280  I2650378   \n",
       "\n",
       "           Top8      Top9     Top10  \n",
       "9133   I2653180  I2646416  I2654889  \n",
       "10567  I2641108  I2651088  I2636764  \n",
       "16042  I2651812  I2524622  I2648306  \n",
       "25661  I2647167  I2648429  I2653750  \n",
       "28168  I2647300  I2652159  I2654683  "
      ]
     },
     "execution_count": 26,
     "metadata": {},
     "output_type": "execute_result"
    }
   ],
   "source": [
    "RecForCust.head()"
   ]
  },
  {
   "cell_type": "code",
   "execution_count": 27,
   "metadata": {
    "execution": {
     "iopub.execute_input": "2021-05-28T11:46:20.116632Z",
     "iopub.status.busy": "2021-05-28T11:46:20.116283Z",
     "iopub.status.idle": "2021-05-28T11:46:20.252348Z",
     "shell.execute_reply": "2021-05-28T11:46:20.251416Z",
     "shell.execute_reply.started": "2021-05-28T11:46:20.116601Z"
    }
   },
   "outputs": [
    {
     "data": {
      "text/html": [
       "<div>\n",
       "<style scoped>\n",
       "    .dataframe tbody tr th:only-of-type {\n",
       "        vertical-align: middle;\n",
       "    }\n",
       "\n",
       "    .dataframe tbody tr th {\n",
       "        vertical-align: top;\n",
       "    }\n",
       "\n",
       "    .dataframe thead th {\n",
       "        text-align: right;\n",
       "    }\n",
       "</style>\n",
       "<table border=\"1\" class=\"dataframe\">\n",
       "  <thead>\n",
       "    <tr style=\"text-align: right;\">\n",
       "      <th></th>\n",
       "      <th>index</th>\n",
       "      <th>variable</th>\n",
       "      <th>jobId</th>\n",
       "    </tr>\n",
       "  </thead>\n",
       "  <tbody>\n",
       "    <tr>\n",
       "      <th>0</th>\n",
       "      <td>9133</td>\n",
       "      <td>Top1</td>\n",
       "      <td>I2369581</td>\n",
       "    </tr>\n",
       "    <tr>\n",
       "      <th>1</th>\n",
       "      <td>10567</td>\n",
       "      <td>Top1</td>\n",
       "      <td>I2639389</td>\n",
       "    </tr>\n",
       "    <tr>\n",
       "      <th>2</th>\n",
       "      <td>16042</td>\n",
       "      <td>Top1</td>\n",
       "      <td>I2647264</td>\n",
       "    </tr>\n",
       "    <tr>\n",
       "      <th>3</th>\n",
       "      <td>25661</td>\n",
       "      <td>Top1</td>\n",
       "      <td>I2652341</td>\n",
       "    </tr>\n",
       "    <tr>\n",
       "      <th>4</th>\n",
       "      <td>28168</td>\n",
       "      <td>Top1</td>\n",
       "      <td>I2646585</td>\n",
       "    </tr>\n",
       "  </tbody>\n",
       "</table>\n",
       "</div>"
      ],
      "text/plain": [
       "   index variable     jobId\n",
       "0   9133     Top1  I2369581\n",
       "1  10567     Top1  I2639389\n",
       "2  16042     Top1  I2647264\n",
       "3  25661     Top1  I2652341\n",
       "4  28168     Top1  I2646585"
      ]
     },
     "execution_count": 27,
     "metadata": {},
     "output_type": "execute_result"
    }
   ],
   "source": [
    "submission=RecForCust.reset_index().melt(id_vars=['index'],value_name='jobId')\n",
    "submission.head()"
   ]
  },
  {
   "cell_type": "code",
   "execution_count": 28,
   "metadata": {
    "execution": {
     "iopub.execute_input": "2021-05-28T11:46:26.367775Z",
     "iopub.status.busy": "2021-05-28T11:46:26.367424Z",
     "iopub.status.idle": "2021-05-28T11:46:27.156392Z",
     "shell.execute_reply": "2021-05-28T11:46:27.155432Z",
     "shell.execute_reply.started": "2021-05-28T11:46:26.367743Z"
    }
   },
   "outputs": [],
   "source": [
    "submission=submission[['index','jobId']].rename(columns={'index':'jobseekerId','jobId':'jobId'})\n",
    "submission.jobId=submission.jobId.str.replace('I','')"
   ]
  },
  {
   "cell_type": "code",
   "execution_count": 29,
   "metadata": {
    "execution": {
     "iopub.execute_input": "2021-05-28T11:46:30.430765Z",
     "iopub.status.busy": "2021-05-28T11:46:30.430442Z",
     "iopub.status.idle": "2021-05-28T11:46:30.523774Z",
     "shell.execute_reply": "2021-05-28T11:46:30.522993Z",
     "shell.execute_reply.started": "2021-05-28T11:46:30.430738Z"
    }
   },
   "outputs": [],
   "source": [
    "submission=submission.sort_values(by='jobseekerId')"
   ]
  },
  {
   "cell_type": "code",
   "execution_count": 34,
   "metadata": {
    "execution": {
     "iopub.execute_input": "2021-05-28T11:47:46.033558Z",
     "iopub.status.busy": "2021-05-28T11:47:46.033214Z",
     "iopub.status.idle": "2021-05-28T11:47:46.074549Z",
     "shell.execute_reply": "2021-05-28T11:47:46.073565Z",
     "shell.execute_reply.started": "2021-05-28T11:47:46.033530Z"
    }
   },
   "outputs": [],
   "source": [
    "final_submission=submission[submission.jobseekerId.isin(son2_basvuranlar_test.jobseekerId.unique())]"
   ]
  },
  {
   "cell_type": "code",
   "execution_count": 35,
   "metadata": {
    "execution": {
     "iopub.execute_input": "2021-05-28T11:47:57.802391Z",
     "iopub.status.busy": "2021-05-28T11:47:57.802035Z",
     "iopub.status.idle": "2021-05-28T11:47:59.065987Z",
     "shell.execute_reply": "2021-05-28T11:47:59.064212Z",
     "shell.execute_reply.started": "2021-05-28T11:47:57.802362Z"
    }
   },
   "outputs": [],
   "source": [
    "final_submission.to_csv('rating_based_cosine_sim_submissionv2.csv',index=False)"
   ]
  }
 ],
 "metadata": {
  "kernelspec": {
   "display_name": "Python 3",
   "language": "python",
   "name": "python3"
  },
  "language_info": {
   "codemirror_mode": {
    "name": "ipython",
    "version": 3
   },
   "file_extension": ".py",
   "mimetype": "text/x-python",
   "name": "python",
   "nbconvert_exporter": "python",
   "pygments_lexer": "ipython3",
   "version": "3.8.5"
  }
 },
 "nbformat": 4,
 "nbformat_minor": 4
}
